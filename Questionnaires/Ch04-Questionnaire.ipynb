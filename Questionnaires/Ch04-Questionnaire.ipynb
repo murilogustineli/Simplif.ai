{
 "cells": [
  {
   "cell_type": "markdown",
   "id": "a6537883-bada-44a4-8b96-ae8ed13a0efb",
   "metadata": {},
   "source": [
    "# Questionnaire Chapter 4: Under the Hood: Training a Digit Classifier"
   ]
  },
  {
   "cell_type": "markdown",
   "id": "0a04ca48-0d67-476f-858b-d2439bc8e72c",
   "metadata": {},
   "source": [
    "1.\tHow can a computer recognize images? (pg. 137)\n",
    "2.\tCreate a 3×3 tensor or array containing the numbers from 1 to 9. Double it. Select the bottom-right four numbers.\n",
    "3.\tWhat’s a metric? What’s its purpose? (pg. 145)\n",
    "4.\tWhat is Stochastic Gradient Descent? (pg. 149)\n",
    "5.\tWhat are the seven steps in SGD for machine learning? (pg. 150)\n",
    "6.\t\n",
    "\n",
    "### Chapter 4 – Main takeaways\n",
    "- Takeaway #1\n",
    "- Takeaway #2\n"
   ]
  },
  {
   "cell_type": "code",
   "execution_count": null,
   "id": "60dc1338-3d97-4abf-b095-4ebe36a8cb82",
   "metadata": {},
   "outputs": [],
   "source": []
  }
 ],
 "metadata": {
  "kernelspec": {
   "display_name": "Python 3 (ipykernel)",
   "language": "python",
   "name": "python3"
  },
  "language_info": {
   "codemirror_mode": {
    "name": "ipython",
    "version": 3
   },
   "file_extension": ".py",
   "mimetype": "text/x-python",
   "name": "python",
   "nbconvert_exporter": "python",
   "pygments_lexer": "ipython3",
   "version": "3.8.13"
  }
 },
 "nbformat": 4,
 "nbformat_minor": 5
}
